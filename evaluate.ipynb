{
 "cells": [
  {
   "cell_type": "markdown",
   "metadata": {},
   "source": [
    "# Evaluate FEPOPS dataset"
   ]
  },
  {
   "cell_type": "code",
   "execution_count": null,
   "metadata": {
    "pycharm": {
     "name": "#%%\n"
    }
   },
   "outputs": [],
   "source": [
    "from itertools import chain\n",
    "import numpy as np\n",
    "from rdkit.Chem import PyMol, Draw, MolToSmiles\n",
    "\n",
    "from fepops import get_features\n",
    "from utils import load_mols, load_fepops"
   ]
  },
  {
   "cell_type": "markdown",
   "metadata": {
    "pycharm": {
     "name": "#%% md\n"
    }
   },
   "source": [
    "### Load Data"
   ]
  },
  {
   "cell_type": "code",
   "execution_count": null,
   "metadata": {
    "pycharm": {
     "name": "#%%\n"
    }
   },
   "outputs": [],
   "source": [
    "name_suffix = \"500\"\n",
    "mols, tauts = load_mols(name_suffix=name_suffix)\n",
    "fepops = load_fepops(name_suffix=name_suffix)\n",
    "\n",
    "# Index from tautomer to original compound\n",
    "mol_index = np.repeat(np.arange(len(tauts)), [len(t) for t in tauts])\n",
    "# Flatten lists\n",
    "tauts = np.array(list(chain(*tauts)))\n",
    "fepops = np.array(list(chain(*fepops)))"
   ]
  },
  {
   "cell_type": "markdown",
   "metadata": {},
   "source": [
    "### Define functions for similarity computation"
   ]
  },
  {
   "cell_type": "code",
   "execution_count": null,
   "metadata": {
    "pycharm": {
     "name": "#%%\n"
    }
   },
   "outputs": [],
   "source": [
    "def corr(X, y):\n",
    "    \"\"\"\n",
    "    Compute pearson correlation between X and y.\n",
    "\n",
    "    Args:\n",
    "        X: Input array with shape (N x T)\n",
    "        y: Input array with shape (M x T)\n",
    "\n",
    "    Returns:\n",
    "        Matrix with shape (N x M) of correlation coefficients.\n",
    "    \"\"\"\n",
    "    return X @ y.T / np.sqrt(np.sum(X ** 2, axis=1)[:, None] @ np.sum(y ** 2, axis=1)[None])\n",
    "\n",
    "\n",
    "def remove_same_compounds(r, mol_index):\n",
    "    \"\"\"\n",
    "    Clear the correlation matrix from similarities between the same compounds (but different tautomers).\n",
    "\n",
    "    Args:\n",
    "        r: Correlation matrix\n",
    "        mol_index: index from tautomers to dataset compounds.\n",
    "    \"\"\"\n",
    "    for mol_i in np.unique(mol_index):\n",
    "        taut_i = np.where(mol_index==mol_i)[0]\n",
    "        comb = [(x * 7, y * 7) for x in taut_i for y in taut_i if x <= y]\n",
    "        for x, y in comb:\n",
    "            r[x:x + 7, y:y + 7] = -1\n",
    "            r[y:y + 7, x:x + 7] = -1\n",
    "\n",
    "\n",
    "def fepops_similarity_matrix(fepops_matrix, mol_index):\n",
    "    \"\"\"\n",
    "    Compute FEPOPS similarities between each compound in dataset\n",
    "\n",
    "    Args:\n",
    "        fepops_matrix: Matrix of FEPOPS descriptors.\n",
    "        mol_index: index from tautomers to dataset compounds.\n",
    "\n",
    "    Returns:\n",
    "        r: Similarity matrix.\n",
    "        best: Ranked indices of most similar compounds.\n",
    "    \"\"\"\n",
    "    fepops_matrix = np.reshape(fepops_matrix, (-1, fepops_matrix.shape[-1]))\n",
    "    # Normalize data\n",
    "    fepops_matrix -= np.mean(fepops_matrix, axis=0)\n",
    "    fepops_matrix /= np.std(fepops_matrix, axis=0)\n",
    "\n",
    "    r = corr(fepops_matrix, fepops_matrix)\n",
    "    # Remove correlation of compound with itself\n",
    "    remove_same_compounds(r, mol_index)\n",
    "    # Only consider upper triangular matrix (symmetry)\n",
    "    r[np.tril_indices(r.shape[0])] = -1\n",
    "    # Create ordered index of similarities\n",
    "    best = np.dstack(np.unravel_index(np.argsort(r.ravel()), r.shape))[0][::-1]\n",
    "    return r, best\n",
    "\n",
    "\n",
    "def get_most_similar_conformers(mol1, mol2):\n",
    "    \"\"\"\n",
    "    Get the index of the most similar conformers of two molecules.\n",
    "\n",
    "    Args:\n",
    "        mol1: Molecule 1.\n",
    "        mol2: Molecule 2.\n",
    "\n",
    "    Returns:\n",
    "        Tuple of the conformer indices.\n",
    "    \"\"\"\n",
    "    feat1 = np.array(get_features(mol1))\n",
    "    feat2 = np.array(get_features(mol2))\n",
    "    feat1 = feat1 - np.mean(feat1, axis=0)\n",
    "    feat2 = feat2 - np.mean(feat2, axis=0)\n",
    "    r = corr(feat1, feat2)\n",
    "    i, j = np.where(r == r.max())\n",
    "    print(f\"Conformer similarity {r.max():.2f}\")\n",
    "    return int(i), int(j)\n",
    "\n",
    "\n",
    "def visualize_results_3d(mol_1, mol_2):\n",
    "    \"\"\"\n",
    "    Visualize two molecules in PyMol.\n",
    "\n",
    "    Args:\n",
    "        mol_1: Molecule 1.\n",
    "        mol_2: Molecule 2.\n",
    "    \"\"\"\n",
    "    conf_id_1, conf_id_2 = get_most_similar_conformers(mol_1, mol_2)\n",
    "    v= PyMol.MolViewer()\n",
    "    v.DeleteAll()\n",
    "    v.server.do('set grid_mode, on')\n",
    "    v.ShowMol(mol_1, confId=conf_id_1, name=\"mol_1\", showOnly=False)\n",
    "    v.ShowMol(mol_2, confId=conf_id_2, name='mol_2', showOnly=False)"
   ]
  },
  {
   "cell_type": "markdown",
   "metadata": {},
   "source": [
    "### Compute FEPOPS similarity matrix for whole dataset"
   ]
  },
  {
   "cell_type": "code",
   "execution_count": null,
   "metadata": {
    "pycharm": {
     "name": "#%%\n"
    }
   },
   "outputs": [],
   "source": [
    "r_matrix, best_ids = fepops_similarity_matrix(fepops, mol_index)\n",
    "\n",
    "# For performance reasons, only create index for top 1% of results\n",
    "top_1_percent = int(len(np.where(r_matrix > -1)[0]) * 0.01)\n",
    "best_ids = best_ids[:top_1_percent]\n",
    "# Ranked index tuples of tautomers\n",
    "best_ids_tauts = (best_ids // 7).tolist()\n",
    "# Ranked index tuples of compounds\n",
    "best_ids_mols = [[mol_index[taut1], mol_index[taut2]] for taut1, taut2 in best_ids_tauts]"
   ]
  },
  {
   "cell_type": "markdown",
   "metadata": {},
   "source": [
    "### Display similarity matrix for a part of the dataset"
   ]
  },
  {
   "cell_type": "code",
   "execution_count": null,
   "metadata": {
    "pycharm": {
     "name": "#%%\n"
    },
    "scrolled": false
   },
   "outputs": [],
   "source": [
    "from utils import visualize_matrix\n",
    "\n",
    "visualize_matrix(r_matrix, num_rows=500)"
   ]
  },
  {
   "cell_type": "markdown",
   "metadata": {
    "pycharm": {
     "name": "#%% md\n"
    }
   },
   "source": [
    "### Show histogram of similarities"
   ]
  },
  {
   "cell_type": "code",
   "execution_count": null,
   "metadata": {
    "pycharm": {
     "name": "#%%\n"
    }
   },
   "outputs": [],
   "source": [
    "from utils import histogram_matrix\n",
    "\n",
    "histogram_matrix(r_matrix)"
   ]
  },
  {
   "cell_type": "code",
   "execution_count": null,
   "metadata": {
    "pycharm": {
     "name": "#%%\n"
    }
   },
   "outputs": [],
   "source": [
    "def get_results(max_similarity=1.):\n",
    "    \"\"\"\n",
    "    Generator for results of similarities.\n",
    "\n",
    "    Args:\n",
    "        max_similarity: Only consider similarities below this threshold.\n",
    "\n",
    "    Returns:\n",
    "        Generator\n",
    "    \"\"\"\n",
    "    for (fep1, fep2), (taut_i_1, taut_i_2), (i, (mol_i_1, mol_i_2)) in zip(best_ids, best_ids_tauts, enumerate(best_ids_mols)):\n",
    "        mol1 = mols[mol_i_1]\n",
    "        mol2 = mols[mol_i_2]\n",
    "        # Skip if duplicate\n",
    "        if MolToSmiles(mol1) == MolToSmiles(mol2):\n",
    "            continue\n",
    "        # Skip if compound pair was already represented in index\n",
    "        if best_ids_mols.index([mol_i_1, mol_i_2]) < i:\n",
    "            continue\n",
    "        sim = r_matrix[fep1, fep2]\n",
    "        if sim > max_similarity:\n",
    "            continue\n",
    "        print(f\"Molecule {mol_i_1} and {mol_i_2}\")\n",
    "        print(f\"Similarity = {sim:.4f}\")\n",
    "        yield mol1, mol2, tauts[taut_i_1], tauts[taut_i_2]\n",
    "\n",
    "result_generator = get_results(max_similarity=0.97)"
   ]
  },
  {
   "cell_type": "markdown",
   "metadata": {},
   "source": [
    "### Visualize 2D structure of next similarity pair"
   ]
  },
  {
   "cell_type": "code",
   "execution_count": null,
   "metadata": {
    "pycharm": {
     "name": "#%%\n"
    },
    "scrolled": false
   },
   "outputs": [],
   "source": [
    "mol1, mol2, taut1, taut2 = next(result_generator)\n",
    "\n",
    "Draw.MolsToGridImage([mol1, mol2], subImgSize=(500, 500))"
   ]
  },
  {
   "cell_type": "markdown",
   "metadata": {
    "pycharm": {
     "name": "#%% md\n"
    }
   },
   "source": [
    "### Show molecules in 3D with PyMol"
   ]
  },
  {
   "cell_type": "code",
   "execution_count": null,
   "metadata": {
    "pycharm": {
     "name": "#%%\n"
    }
   },
   "outputs": [],
   "source": [
    "visualize_results_3d(taut1, taut2)"
   ]
  },
  {
   "cell_type": "markdown",
   "metadata": {},
   "source": [
    "# Compute FEPOPS similarity with new compound"
   ]
  },
  {
   "cell_type": "code",
   "execution_count": null,
   "metadata": {
    "pycharm": {
     "name": "#%%\n"
    }
   },
   "outputs": [],
   "source": [
    "from fepops import smiles_to_fepops\n",
    "\n",
    "input_smiles = \"O=c1[nH]cc(CN(CCCl)CCCl)c(=O)[nH]1\"\n",
    "# Convert to FEPOPS\n",
    "fepops_probe = smiles_to_fepops(input_smiles)"
   ]
  },
  {
   "cell_type": "code",
   "execution_count": null,
   "metadata": {
    "pycharm": {
     "name": "#%%\n"
    }
   },
   "outputs": [],
   "source": [
    "def fepops_similarity(X, y):\n",
    "    X = np.reshape(X, (-1, X.shape[-1]))\n",
    "    y = np.reshape(y, (-1, y.shape[-1]))\n",
    "    x_mean = np.mean(X, axis=0)\n",
    "    X -= x_mean\n",
    "    y -= x_mean\n",
    "    x_std = np.std(X, axis=0)\n",
    "    X /= x_std\n",
    "    y /= x_std\n",
    "\n",
    "    r = corr(X, y)\n",
    "    best = np.dstack(np.unravel_index(np.argsort(r.ravel()), r.shape))[0][::-1]\n",
    "    return r, best"
   ]
  },
  {
   "cell_type": "markdown",
   "metadata": {},
   "source": [
    "### Compute similarities between dataset and probe"
   ]
  },
  {
   "cell_type": "code",
   "execution_count": null,
   "metadata": {
    "pycharm": {
     "name": "#%%\n"
    }
   },
   "outputs": [],
   "source": [
    "r_matrix, best_ids = fepops_similarity(fepops, fepops_probe)\n",
    "\n",
    "best_ids_tauts = (best_ids // 7).tolist()\n",
    "best_ids_mols = [[mol_index[taut1], mol_index[taut2]] for taut1, taut2 in best_ids_tauts]\n",
    "result_generator = get_results()"
   ]
  },
  {
   "cell_type": "code",
   "execution_count": null,
   "metadata": {
    "pycharm": {
     "name": "#%%\n"
    }
   },
   "outputs": [],
   "source": [
    "mol1, mol2, taut1, taut2 = next(result_generator)\n",
    "\n",
    "Draw.MolsToGridImage([mol1, mol2], subImgSize=(500, 500))"
   ]
  },
  {
   "cell_type": "markdown",
   "metadata": {},
   "source": [
    "### Show molecules in 3D with PyMol"
   ]
  },
  {
   "cell_type": "code",
   "execution_count": null,
   "metadata": {},
   "outputs": [],
   "source": [
    "visualize_results_3d(taut1, taut2)"
   ]
  }
 ],
 "metadata": {
  "kernelspec": {
   "display_name": "Python 3 (ipykernel)",
   "language": "python",
   "name": "python3"
  },
  "language_info": {
   "codemirror_mode": {
    "name": "ipython",
    "version": 3
   },
   "file_extension": ".py",
   "mimetype": "text/x-python",
   "name": "python",
   "nbconvert_exporter": "python",
   "pygments_lexer": "ipython3",
   "version": "3.10.6"
  }
 },
 "nbformat": 4,
 "nbformat_minor": 1
}