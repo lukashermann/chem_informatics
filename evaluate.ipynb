{
 "cells": [
  {
   "cell_type": "code",
   "execution_count": 1,
   "outputs": [],
   "source": [
    "from itertools import chain\n",
    "\n",
    "import numpy as np\n",
    "from matplotlib import pyplot as plt\n",
    "from rdkit.Chem import PyMol, Draw, MolToSmiles\n",
    "\n",
    "from pangea_case_study import get_features\n",
    "from utils import load_mols, load_fepops, visualize_results_2d"
   ],
   "metadata": {
    "collapsed": false,
    "pycharm": {
     "name": "#%%\n"
    }
   }
  },
  {
   "cell_type": "code",
   "execution_count": 3,
   "outputs": [],
   "source": [
    "name_suffix = \"500\"\n",
    "mols, tauts = load_mols(name_suffix=name_suffix)\n",
    "fepops = load_fepops(name_suffix=name_suffix)\n",
    "\n",
    "mol_index = np.repeat(np.arange(len(tauts)), [len(t) for t in tauts])\n",
    "flat_tauts = np.array(list(chain(*tauts)))\n",
    "fepops = np.array(list(chain(*fepops)))"
   ],
   "metadata": {
    "collapsed": false,
    "pycharm": {
     "name": "#%%\n"
    }
   }
  },
  {
   "cell_type": "code",
   "execution_count": 4,
   "outputs": [],
   "source": [
    "def corr(X, y):\n",
    "    return X @ y.T / np.sqrt(np.sum(X ** 2, axis=1)[:, None] @ np.sum(y ** 2, axis=1)[None])\n",
    "\n",
    "\n",
    "def remove_same_compounds(r, mol_index):\n",
    "    for mol_i in np.unique(mol_index):\n",
    "        taut_i = np.where(mol_index==mol_i)[0]\n",
    "        comb = [(x * 7, y * 7) for x in taut_i for y in taut_i if x <= y]\n",
    "        for x, y in comb:\n",
    "            r[x:x + 7, y:y + 7] = -1\n",
    "            r[y:y + 7, x:x + 7] = -1\n",
    "\n",
    "\n",
    "def fepops_similarity_matrix(X, mol_index):\n",
    "    X = np.reshape(X, (-1, X.shape[-1]))\n",
    "    X -= np.mean(X, axis=0)\n",
    "    X /= np.std(X, axis=0)\n",
    "\n",
    "    r = corr(X, X)\n",
    "    remove_same_compounds(r, mol_index)\n",
    "    r[np.tril_indices(r.shape[0])] = -1\n",
    "\n",
    "    best = np.dstack(np.unravel_index(np.argsort(r.ravel()), r.shape))[0][::-1]\n",
    "    return r, best\n",
    "\n",
    "\n",
    "def get_most_similar_conformers(mol1, mol2):\n",
    "    feat1 = np.array(get_features(mol1))\n",
    "    feat2 = np.array(get_features(mol2))\n",
    "    feat1 = feat1 - np.mean(feat1, axis=0)\n",
    "    feat2 = feat2 - np.mean(feat2, axis=0)\n",
    "    r = corr(feat1, feat2)\n",
    "    i, j = np.where(r == r.max())\n",
    "    print(r.max())\n",
    "    return int(i), int(j)\n",
    "\n",
    "\n",
    "def visualize_results_3d(mol_1, mol_2):\n",
    "    conf_id_1, conf_id_2 = get_most_similar_conformers(mol_1, mol_2)\n",
    "    v= PyMol.MolViewer()\n",
    "    v.DeleteAll()\n",
    "    v.server.do('set grid_mode, on')\n",
    "    v.ShowMol(mol_1, confId=conf_id_1, name=\"mol_1\", showOnly=False)\n",
    "    v.ShowMol(mol_2, confId=conf_id_2, name='mol_2', showOnly=False)"
   ],
   "metadata": {
    "collapsed": false,
    "pycharm": {
     "name": "#%%\n"
    }
   }
  },
  {
   "cell_type": "code",
   "execution_count": 6,
   "outputs": [],
   "source": [
    "r_matrix, best_ids = fepops_similarity_matrix(fepops, mol_index)\n",
    "\n",
    "top_1_percent = int(len(np.where(r_matrix > -1)[0]) * 0.01)\n",
    "best_ids = best_ids[:top_1_percent]\n",
    "best_ids_tauts = (best_ids // 7).tolist()\n",
    "best_ids_mols = [[mol_index[taut1], mol_index[taut2]] for taut1, taut2 in best_ids_tauts]"
   ],
   "metadata": {
    "collapsed": false,
    "pycharm": {
     "name": "#%%\n"
    }
   }
  },
  {
   "cell_type": "code",
   "execution_count": null,
   "outputs": [],
   "source": [
    "from utils import visualize_matrix\n",
    "\n",
    "visualize_matrix(r_matrix)\n"
   ],
   "metadata": {
    "collapsed": false,
    "pycharm": {
     "name": "#%%\n"
    }
   }
  },
  {
   "cell_type": "code",
   "execution_count": null,
   "outputs": [],
   "source": [
    "from utils import histogram_matrix\n",
    "\n",
    "histogram_matrix(r_matrix)"
   ],
   "metadata": {
    "collapsed": false,
    "pycharm": {
     "name": "#%%\n"
    }
   }
  },
  {
   "cell_type": "code",
   "execution_count": null,
   "outputs": [],
   "source": [
    "for (fep1, fep2), (taut_i_1, taut_i_2), (i, (mol_i_1, mol_i_2)) in zip(best_ids, best_ids_tauts, enumerate(best_ids_mols)):\n",
    "    mol1 = mols[mol_i_1]\n",
    "    mol2 = mols[mol_i_2]\n",
    "    if MolToSmiles(mol1) == MolToSmiles(mol2):\n",
    "        continue\n",
    "    if best_ids_mols.index([mol_i_1, mol_i_2]) < i:\n",
    "        continue\n",
    "    print(f\"Similarity = {r_matrix[fep1, fep2]:.2f}\")\n",
    "    Draw.MolsToGridImage([mol1, mol2], subImgSize=(500, 500))\n",
    "    visualize_results_2d(mol1, mol2)\n",
    "    vis = input(\"Visualize in 3D? (y/N)\")\n",
    "    if vis == \"y\":\n",
    "        visualize_results_3d(tauts[taut_i_1], tauts[taut_i_2])"
   ],
   "metadata": {
    "collapsed": false,
    "pycharm": {
     "name": "#%%\n"
    }
   }
  }
 ],
 "metadata": {
  "kernelspec": {
   "display_name": "Python 3",
   "language": "python",
   "name": "python3"
  },
  "language_info": {
   "codemirror_mode": {
    "name": "ipython",
    "version": 2
   },
   "file_extension": ".py",
   "mimetype": "text/x-python",
   "name": "python",
   "nbconvert_exporter": "python",
   "pygments_lexer": "ipython2",
   "version": "2.7.6"
  }
 },
 "nbformat": 4,
 "nbformat_minor": 0
}